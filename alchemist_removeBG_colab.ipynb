{
  "nbformat": 4,
  "nbformat_minor": 0,
  "metadata": {
    "colab": {
      "provenance": [],
      "authorship_tag": "ABX9TyNuT825GpgiQkULGb0/twqw",
      "include_colab_link": true
    },
    "kernelspec": {
      "name": "python3",
      "display_name": "Python 3"
    },
    "language_info": {
      "name": "python"
    }
  },
  "cells": [
    {
      "cell_type": "markdown",
      "metadata": {
        "id": "view-in-github",
        "colab_type": "text"
      },
      "source": [
        "<a href=\"https://colab.research.google.com/github/poomshift/remove-bg-colab/blob/main/alchemist_removeBG_colab.ipynb\" target=\"_parent\"><img src=\"https://colab.research.google.com/assets/colab-badge.svg\" alt=\"Open In Colab\"/></a>"
      ]
    },
    {
      "cell_type": "code",
      "execution_count": null,
      "metadata": {
        "id": "ht3JLXZ9LJk2"
      },
      "outputs": [],
      "source": [
        "# Downloading all codes & dependencies\n",
        "!git clone https://github.com/ZhengPeng7/BiRefNet.git\n",
        "!pip uninstall -q torchaudio torchdata torchtext -y\n",
        "!pip install -q -r BiRefNet/requirements.txt\n",
        "!pip install -q -U gdown gradio\n",
        "\n",
        "%cd BiRefNet\n",
        "\n",
        "# Imports\n",
        "from PIL import Image\n",
        "import torch\n",
        "from torchvision import transforms\n",
        "import gradio as gr\n",
        "\n",
        "from models.birefnet import BiRefNet\n",
        "\n",
        "# Load Model\n",
        "device = 'cuda' if torch.cuda.is_available() else 'cpu'\n",
        "torch.set_float32_matmul_precision(['high', 'highest'][0])\n",
        "model = BiRefNet.from_pretrained('zhengpeng7/birefnet')\n",
        "model.to(device)\n",
        "model.eval()\n",
        "print('BiRefNet is ready to use.')\n",
        "\n",
        "# Input Data\n",
        "transform_image = transforms.Compose([\n",
        "    transforms.Resize((1024, 1024)),\n",
        "    transforms.ToTensor(),\n",
        "    transforms.Normalize([0.485, 0.456, 0.406], [0.229, 0.224, 0.225])\n",
        "])\n",
        "\n",
        "def remove_background(image, left, top, right, bottom):\n",
        "    w, h = image.size\n",
        "    box = [left, top, right, bottom]\n",
        "    for idx, value in enumerate(box):\n",
        "        if value == -1:\n",
        "            box[idx] = [0, 0, w, h][idx]\n",
        "\n",
        "    image_crop = image.crop(box)\n",
        "    input_images = transform_image(image_crop).unsqueeze(0).to(device)\n",
        "\n",
        "    # Prediction\n",
        "    with torch.no_grad():\n",
        "        preds = model(input_images)[-1].sigmoid().cpu()\n",
        "    pred = preds[0].squeeze()\n",
        "\n",
        "    canvas = torch.zeros((h, w))\n",
        "    box_to_canvas = [int(round(value * (w / 1024, h / 1024)[idx % 2])) for idx, value in enumerate(box)]\n",
        "    pred = torch.nn.functional.interpolate(\n",
        "        pred.unsqueeze(0).unsqueeze(0),\n",
        "        size=(box_to_canvas[3] - box_to_canvas[1], box_to_canvas[2] - box_to_canvas[0]),\n",
        "        mode='bilinear',\n",
        "        align_corners=True\n",
        "    ).squeeze()\n",
        "    canvas[box_to_canvas[1]:box_to_canvas[3], box_to_canvas[0]:box_to_canvas[2]] = pred\n",
        "\n",
        "    # Create masked image\n",
        "    pred_pil = transforms.ToPILImage()(canvas)\n",
        "    image_masked = image.copy()\n",
        "    image_masked.putalpha(pred_pil)\n",
        "\n",
        "    return image_masked\n",
        "\n",
        "# Gradio Interface\n",
        "iface = gr.Interface(\n",
        "    fn=remove_background,\n",
        "    inputs=[\n",
        "        gr.Image(type=\"pil\"),\n",
        "        gr.Slider(minimum=-1, maximum=1024, step=1, value=-1, label=\"Left\"),\n",
        "        gr.Slider(minimum=-1, maximum=1024, step=1, value=-1, label=\"Top\"),\n",
        "        gr.Slider(minimum=-1, maximum=1024, step=1, value=-1, label=\"Right\"),\n",
        "        gr.Slider(minimum=-1, maximum=1024, step=1, value=-1, label=\"Bottom\"),\n",
        "    ],\n",
        "    outputs=gr.Image(type=\"pil\"),\n",
        "    title=\"Background Removal App\",\n",
        "    description=\"Upload an image and optionally specify a bounding box to remove the background.\",\n",
        ")\n",
        "\n",
        "# Launch the app\n",
        "iface.launch(share=True)"
      ]
    }
  ]
}