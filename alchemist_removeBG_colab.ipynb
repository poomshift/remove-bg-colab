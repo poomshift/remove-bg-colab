{
  "nbformat": 4,
  "nbformat_minor": 0,
  "metadata": {
    "colab": {
      "provenance": [],
      "gpuType": "T4",
      "authorship_tag": "ABX9TyPTuH9EtQKXyG98kpadkybp",
      "include_colab_link": true
    },
    "kernelspec": {
      "name": "python3",
      "display_name": "Python 3"
    },
    "language_info": {
      "name": "python"
    },
    "accelerator": "GPU"
  },
  "cells": [
    {
      "cell_type": "markdown",
      "metadata": {
        "id": "view-in-github",
        "colab_type": "text"
      },
      "source": [
        "<a href=\"https://colab.research.google.com/github/poomshift/remove-bg-colab/blob/main/alchemist_removeBG_colab.ipynb\" target=\"_parent\"><img src=\"https://colab.research.google.com/assets/colab-badge.svg\" alt=\"Open In Colab\"/></a>"
      ]
    },
    {
      "cell_type": "code",
      "execution_count": null,
      "metadata": {
        "id": "ht3JLXZ9LJk2",
        "cellView": "form"
      },
      "outputs": [],
      "source": [
        "#@markdown # 1. ติดตั้ง Dependencies ก่อน\n",
        "from IPython.display import clear_output\n",
        "from IPython.display import Javascript\n",
        "import ipywidgets as widgets\n",
        "display(Javascript('''google.colab.output.setIframeHeight(0, true, {maxHeight: 200})'''))\n",
        "def inf(msg, style, wdth): inf = widgets.Button(description=msg, disabled=True, button_style=style, layout=widgets.Layout(min_width=wdth));display(inf)\n",
        "# Downloading all codes & dependencies\n",
        "!git clone https://github.com/ZhengPeng7/BiRefNet.git\n",
        "!pip uninstall -q torchaudio torchdata torchtext -y\n",
        "!pip install -q -r BiRefNet/requirements.txt\n",
        "!pip install -q -U gdown gradio timm==0.6.12\n",
        "\n",
        "%cd BiRefNet\n",
        "\n",
        "clear_output()\n",
        "inf('\\u2714 Done','success', '50px')"
      ]
    },
    {
      "cell_type": "code",
      "source": [
        "#@markdown # 2. Run โปรแกรม\n",
        "\n",
        "from IPython.display import Javascript\n",
        "display(Javascript('''google.colab.output.setIframeHeight(0, true, {maxHeight: 800})'''))\n",
        "# Imports\n",
        "from PIL import Image\n",
        "import torch\n",
        "from torchvision import transforms\n",
        "import gradio as gr\n",
        "\n",
        "# Modify the import to avoid the registry issue\n",
        "import sys\n",
        "sys.path.append('.')\n",
        "from models.birefnet import BiRefNet\n",
        "\n",
        "# Load Model\n",
        "device = 'cuda' if torch.cuda.is_available() else 'cpu'\n",
        "torch.set_float32_matmul_precision(['high', 'highest'][0])\n",
        "model = BiRefNet.from_pretrained('zhengpeng7/birefnet')\n",
        "model.to(device)\n",
        "model.eval()\n",
        "print('BiRefNet is ready to use.')\n",
        "\n",
        "# Input Data\n",
        "transform_image = transforms.Compose([\n",
        "    transforms.Resize((1024, 1024)),\n",
        "    transforms.ToTensor(),\n",
        "    transforms.Normalize([0.485, 0.456, 0.406], [0.229, 0.224, 0.225])\n",
        "])\n",
        "\n",
        "def remove_background(image):\n",
        "    w, h = image.size\n",
        "    input_images = transform_image(image).unsqueeze(0).to(device)\n",
        "\n",
        "    # Prediction\n",
        "    with torch.no_grad():\n",
        "        preds = model(input_images)[-1].sigmoid().cpu()\n",
        "    pred = preds[0].squeeze()\n",
        "\n",
        "    # Resize the prediction to match the original image size\n",
        "    pred_resized = transforms.Resize((h, w))(pred.unsqueeze(0)).squeeze()\n",
        "\n",
        "    # Create masked image\n",
        "    pred_pil = transforms.ToPILImage()(pred_resized)\n",
        "    image_masked = image.copy()\n",
        "    image_masked.putalpha(pred_pil)\n",
        "\n",
        "    return image_masked\n",
        "\n",
        "# Gradio Interface\n",
        "iface = gr.Interface(\n",
        "    fn=remove_background,\n",
        "    inputs=[\n",
        "        gr.Image(type=\"pil\", label=\"Input Image\"),\n",
        "    ],\n",
        "    outputs=gr.Image(type=\"pil\", label=\"Image with Background Removed\"),\n",
        "    title=\"Alchemist Background Removal App\",\n",
        "    description=\"Upload an image to remove its background.\",\n",
        ")\n",
        "\n",
        "# Launch the app without showing the UI in the output\n",
        "iface.launch(share=True, quiet=True)\n",
        "print(f\"Gradio app is running. To access it, use the public URL provided above.\")"
      ],
      "metadata": {
        "cellView": "form",
        "id": "JCTVi7-FUaqb",
        "outputId": "0268fd8c-0dbc-428b-ea85-5fbc23904293",
        "colab": {
          "base_uri": "https://localhost:8080/",
          "height": 573
        }
      },
      "execution_count": 5,
      "outputs": [
        {
          "output_type": "display_data",
          "data": {
            "text/plain": [
              "<IPython.core.display.Javascript object>"
            ],
            "application/javascript": [
              "google.colab.output.setIframeHeight(0, true, {maxHeight: 800})"
            ]
          },
          "metadata": {}
        },
        {
          "output_type": "stream",
          "name": "stdout",
          "text": [
            "BiRefNet is ready to use.\n",
            "* Running on public URL: https://15828856f9e1a49eba.gradio.live\n"
          ]
        },
        {
          "output_type": "display_data",
          "data": {
            "text/plain": [
              "<IPython.core.display.HTML object>"
            ],
            "text/html": [
              "<div><iframe src=\"https://15828856f9e1a49eba.gradio.live\" width=\"100%\" height=\"500\" allow=\"autoplay; camera; microphone; clipboard-read; clipboard-write;\" frameborder=\"0\" allowfullscreen></iframe></div>"
            ]
          },
          "metadata": {}
        },
        {
          "output_type": "stream",
          "name": "stdout",
          "text": [
            "Gradio app is running. To access it, use the public URL provided above.\n"
          ]
        }
      ]
    }
  ]
}